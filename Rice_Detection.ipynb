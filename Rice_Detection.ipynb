{
  "nbformat": 4,
  "nbformat_minor": 0,
  "metadata": {
    "colab": {
      "provenance": [],
      "gpuType": "T4",
      "mount_file_id": "1-z_NK26xS2-zjov_okdRiOHhzSQjMC6w",
      "authorship_tag": "ABX9TyOY40LZuI/XKnLdpkj6reAC",
      "include_colab_link": true
    },
    "kernelspec": {
      "name": "python3",
      "display_name": "Python 3"
    },
    "language_info": {
      "name": "python"
    },
    "accelerator": "GPU"
  },
  "cells": [
    {
      "cell_type": "markdown",
      "metadata": {
        "id": "view-in-github",
        "colab_type": "text"
      },
      "source": [
        "<a href=\"https://colab.research.google.com/github/jarodriguezf/Projects/blob/main/Rice_Detection.ipynb\" target=\"_parent\"><img src=\"https://colab.research.google.com/assets/colab-badge.svg\" alt=\"Open In Colab\"/></a>"
      ]
    },
    {
      "cell_type": "markdown",
      "source": [
        "**INTRODUCCIÓN**\n",
        "\n",
        "Este ejercicio consta de una serie de imagenes correspondiente a varias variantes de arroces (Jasmine, Basmati, Arborio, Ipsala, Karacadag).\n",
        "\n",
        "El objetivo consiste en predecir el tipo del arroz (variantes) segun las imagenes que le introducamos al modelo predictivo.\n",
        "\n",
        "Los pasos que realizo son los siguientes:\n",
        "\n",
        "- Carga de imagenes.\n",
        "- Transformacion de imagenes.\n",
        "- Visualizacion de imagenes.\n",
        "- Division de datos de entrenamiento, evaluacion y prueba.\n",
        "- definir funciones de procesamiento de imagenes.\n",
        "- definir estructura del modelo predictivo.\n",
        "- prediccion y resultado final.\n",
        "\n",
        "Gracias por verlo (:\n"
      ],
      "metadata": {
        "id": "jcr2Od5_PuVu"
      }
    },
    {
      "cell_type": "code",
      "source": [
        "import pandas as pd\n",
        "import matplotlib.pyplot as plt\n",
        "# CONVOLUCION\n",
        "from keras.layers import Dense, Dropout, Flatten, Conv2D, MaxPool2D\n",
        "# RED NEURONAL SECUENCIAL\n",
        "from tensorflow.keras.models import Sequential\n",
        "# OPTIMIZADOR\n",
        "from keras.optimizers import Adam\n",
        "# LIBRERIAS PARA IMPORTAR Y EXPORTAR ARCHIVOS\n",
        "import io\n",
        "from google.colab import drive\n",
        "import zipfile\n",
        "import os\n",
        "from PIL import Image\n",
        "from IPython.display import display\n",
        "from sklearn.model_selection import train_test_split\n",
        "from keras.preprocessing.image import img_to_array\n",
        "import numpy as np\n",
        "from keras.preprocessing.image import ImageDataGenerator\n",
        "from keras.utils import to_categorical"
      ],
      "metadata": {
        "id": "dhl3zmF6v68t"
      },
      "execution_count": 1,
      "outputs": []
    },
    {
      "cell_type": "code",
      "source": [
        "# Especifica la ruta del archivo RAR que deseas descomprimir\n",
        "ruta_archivo_zip = '/content/drive/MyDrive/imagenes_CNN/rice_detection.zip'"
      ],
      "metadata": {
        "id": "1NlXAhVhyUav"
      },
      "execution_count": 2,
      "outputs": []
    },
    {
      "cell_type": "code",
      "source": [
        "# Lee el archivo ZIP en una variable de bytes\n",
        "with open(ruta_archivo_zip, 'rb') as file:\n",
        "    contenido_zip = file.read()"
      ],
      "metadata": {
        "id": "8P3cvaqrysuE"
      },
      "execution_count": 3,
      "outputs": []
    },
    {
      "cell_type": "code",
      "source": [
        "# Descomprime el archivo ZIP en la variable 'imagenes'\n",
        "with zipfile.ZipFile(io.BytesIO(contenido_zip), 'r') as zip_ref:\n",
        "    imagenes_total = {nombre: zip_ref.read(nombre) for nombre in zip_ref.namelist()}"
      ],
      "metadata": {
        "id": "HFKysuQDzXFS"
      },
      "execution_count": 4,
      "outputs": []
    },
    {
      "cell_type": "code",
      "source": [
        "# Dividir las carpetas y imagenes segun tipo de arroz\n",
        "# Especifica la ruta del directorio que contiene las carpetas con imágenes\n",
        "ruta_Arborio = 'Rice_Image_Dataset/Arborio'\n",
        "ruta_Basmati = 'Rice_Image_Dataset/Basmati'\n",
        "ruta_Ipsala = 'Rice_Image_Dataset/Ipsala'\n",
        "ruta_Jasmine = 'Rice_Image_Dataset/Jasmine'\n",
        "ruta_Karacadag = 'Rice_Image_Dataset/Karacadag'"
      ],
      "metadata": {
        "id": "uiHW6MWOztnt"
      },
      "execution_count": 5,
      "outputs": []
    },
    {
      "cell_type": "code",
      "source": [
        "# Función para obtener el contenido de una lista específica, retornando el contenido de cada carpeta con imagenes\n",
        "def obtener_contenido_carpeta(img_total, ruta):\n",
        "    contenido_carpeta = []\n",
        "    for nombre, contenido in img_total.items():\n",
        "        # Verificar si la ruta coincide con la carpeta\n",
        "        if nombre.startswith(ruta):\n",
        "            print(\"Comparando:\", nombre, \"con\", ruta)\n",
        "            # Asignar el contenido a la lista\n",
        "            contenido_carpeta.append(contenido)\n",
        "\n",
        "    return contenido_carpeta"
      ],
      "metadata": {
        "id": "sh0t9yVS11i4"
      },
      "execution_count": 6,
      "outputs": []
    },
    {
      "cell_type": "code",
      "source": [
        "# Obtener el contenido de cada carpeta\n",
        "carpetas_con_Arborio = obtener_contenido_carpeta(imagenes_total, ruta_Arborio)\n",
        "carpetas_con_Basmati = obtener_contenido_carpeta(imagenes_total, ruta_Basmati)\n",
        "carpetas_con_Ipsala = obtener_contenido_carpeta(imagenes_total, ruta_Ipsala)\n",
        "carpetas_con_Jasmine = obtener_contenido_carpeta(imagenes_total, ruta_Jasmine)\n",
        "carpetas_con_Karacadag = obtener_contenido_carpeta(imagenes_total, ruta_Karacadag)"
      ],
      "metadata": {
        "id": "kQZ2AdXR5LHl"
      },
      "execution_count": null,
      "outputs": []
    },
    {
      "cell_type": "code",
      "source": [
        "# Decodificamos las imagenes binarias a jpg\n",
        "def decodificar_binarios(contenidos_carpetas):\n",
        "  imagen_pil=[]\n",
        "  for i in contenidos_carpetas:\n",
        "    imagen_bytes = io.BytesIO(i)\n",
        "    imagen_pil.append(Image.open(imagen_bytes))\n",
        "  return imagen_pil"
      ],
      "metadata": {
        "id": "DPn6Fckh6QjM"
      },
      "execution_count": 8,
      "outputs": []
    },
    {
      "cell_type": "code",
      "source": [
        "# Hacemos uso de la funcion decodificar\n",
        "Arborio_img = decodificar_binarios(carpetas_con_Arborio)\n",
        "Basmati_img = decodificar_binarios(carpetas_con_Basmati)\n",
        "Ipsala_img = decodificar_binarios(carpetas_con_Ipsala)\n",
        "Jasmine_img = decodificar_binarios(carpetas_con_Jasmine)\n",
        "Karacadag_img = decodificar_binarios(carpetas_con_Karacadag)"
      ],
      "metadata": {
        "id": "uLctTMKPEN02"
      },
      "execution_count": 9,
      "outputs": []
    },
    {
      "cell_type": "code",
      "source": [
        "# Mostramos algunas imagenes para ver el resultado\n",
        "if Arborio_img:\n",
        "  display(Arborio_img[200])\n",
        "else:\n",
        "  print(\"La lista de imágenes está vacía.\")"
      ],
      "metadata": {
        "colab": {
          "base_uri": "https://localhost:8080/",
          "height": 267
        },
        "id": "jENMqgLTEcP-",
        "outputId": "1d2b0129-2cff-494b-bd59-483594a2cb3a"
      },
      "execution_count": null,
      "outputs": [
        {
          "output_type": "display_data",
          "data": {
            "text/plain": [
              "<PIL.JpegImagePlugin.JpegImageFile image mode=RGB size=250x250>"
            ],
            "image/png": "[encoded data removed]"
          },
          "metadata": {}
        }
      ]
    },
    {
      "cell_type": "code",
      "source": [
        "if Basmati_img:\n",
        "  display(Basmati_img[200])\n",
        "else:\n",
        "  print(\"La lista de imágenes está vacía.\")"
      ],
      "metadata": {
        "colab": {
          "base_uri": "https://localhost:8080/",
          "height": 267
        },
        "id": "91GIwCGPGJEu",
        "outputId": "68456765-24bf-4fca-c45a-492f67e1b7b7"
      },
      "execution_count": null,
      "outputs": [
        {
          "output_type": "display_data",
          "data": {
            "text/plain": [
              "<PIL.JpegImagePlugin.JpegImageFile image mode=RGB size=250x250>"
            ],
            "image/png": "[encoded data removed]"
          },
          "metadata": {}
        }
      ]
    },
    {
      "cell_type": "code",
      "source": [
        "if Ipsala_img:\n",
        "  display(Ipsala_img[200])\n",
        "else:\n",
        "  print(\"La lista de imágenes está vacía.\")"
      ],
      "metadata": {
        "colab": {
          "base_uri": "https://localhost:8080/",
          "height": 267
        },
        "id": "3tkAU2DiGLat",
        "outputId": "ab00ae5b-be44-4468-fb3a-a84d4be7da3d"
      },
      "execution_count": null,
      "outputs": [
        {
          "output_type": "display_data",
          "data": {
            "text/plain": [
              "<PIL.JpegImagePlugin.JpegImageFile image mode=RGB size=250x250>"
            ],
            "image/png": "[encoded data removed]"
          },
          "metadata": {}
        }
      ]
    },
    {
      "cell_type": "code",
      "source": [
        "if Jasmine_img:\n",
        "  display(Jasmine_img[200])\n",
        "else:\n",
        "  print(\"La lista de imágenes está vacía.\")"
      ],
      "metadata": {
        "colab": {
          "base_uri": "https://localhost:8080/",
          "height": 267
        },
        "id": "DSe5Vz_gGOON",
        "outputId": "85e6c419-c434-43fb-b1c3-ea18ffb64979"
      },
      "execution_count": null,
      "outputs": [
        {
          "output_type": "display_data",
          "data": {
            "text/plain": [
              "<PIL.JpegImagePlugin.JpegImageFile image mode=RGB size=250x250>"
            ],
            "image/png": "[encoded data removed]"
          },
          "metadata": {}
        }
      ]
    },
    {
      "cell_type": "code",
      "source": [
        "if Karacadag_img:\n",
        "  display(Karacadag_img[200])\n",
        "else:\n",
        "  print(\"La lista de imágenes está vacía.\")"
      ],
      "metadata": {
        "colab": {
          "base_uri": "https://localhost:8080/",
          "height": 267
        },
        "id": "dpsX4a7jGS4_",
        "outputId": "3889c4c4-e938-45af-f3e4-1f9b3d63810b"
      },
      "execution_count": null,
      "outputs": [
        {
          "output_type": "display_data",
          "data": {
            "text/plain": [
              "<PIL.JpegImagePlugin.JpegImageFile image mode=RGB size=250x250>"
            ],
            "image/png": "[encoded data removed]"
          },
          "metadata": {}
        }
      ]
    },
    {
      "cell_type": "code",
      "source": [
        "# Dividir las imagenes para el conjunto de prueba\n",
        "#(para el entrenamiento usaremos unas pocas imagenes ya que mis recursos son limitados)\n",
        "training_Arborio, testing_Arborio = train_test_split(Arborio_img, test_size=0.7, random_state=42)\n",
        "training_Basmati, testing_Basmati = train_test_split(Basmati_img, test_size=0.7, random_state=42)\n",
        "training_Ipsala, testing_Ipsala = train_test_split(Ipsala_img, test_size=0.7, random_state=42)\n",
        "training_Jasmine, testing_Jasmine = train_test_split(Jasmine_img, test_size=0.7, random_state=42)\n",
        "training_Karacadag, testing_Karacadag = train_test_split(Karacadag_img, test_size=0.7, random_state=42)"
      ],
      "metadata": {
        "id": "mW1PJbQTIwzo"
      },
      "execution_count": 10,
      "outputs": []
    },
    {
      "cell_type": "code",
      "source": [
        "# Añadimos las variables dependientes a el conjunto de entrenamiento\n",
        "label_Arborio = []\n",
        "label_Basmati = []\n",
        "label_Ipsala = []\n",
        "label_Jasmine = []\n",
        "label_Karacadaj = []\n",
        "\n",
        "for i in range(4500):\n",
        "  label_Arborio.append(1)\n",
        "\n",
        "for i in range(4500):\n",
        "  label_Basmati.append(2)\n",
        "\n",
        "for i in range(4500):\n",
        "  label_Ipsala.append(3)\n",
        "\n",
        "for i in range(4500):\n",
        "  label_Jasmine.append(4)\n",
        "\n",
        "for i in range(4500):\n",
        "  label_Karacadaj.append(5)"
      ],
      "metadata": {
        "id": "3enTsO1PviHz"
      },
      "execution_count": 11,
      "outputs": []
    },
    {
      "cell_type": "code",
      "source": [
        "size_training_Arborio = len(training_Arborio)\n",
        "print(\"Tamaño del conjunto de entrenamiento de Arborio:\", size_training_Arborio)"
      ],
      "metadata": {
        "colab": {
          "base_uri": "https://localhost:8080/"
        },
        "id": "AJo2assgKddl",
        "outputId": "e0c635c8-8c80-47b9-f102-455bbadd5ea9"
      },
      "execution_count": null,
      "outputs": [
        {
          "output_type": "stream",
          "name": "stdout",
          "text": [
            "Tamaño del conjunto de entrenamiento de Arborio: 4500\n"
          ]
        }
      ]
    },
    {
      "cell_type": "code",
      "source": [
        "size_test_Arborio = len(testing_Arborio)\n",
        "print(\"Tamaño del conjunto de testing de Arborio:\", size_test_Arborio)"
      ],
      "metadata": {
        "colab": {
          "base_uri": "https://localhost:8080/"
        },
        "id": "LPG74_4QLeQh",
        "outputId": "872bfb7f-4100-4fa2-e49c-1203e2454621"
      },
      "execution_count": null,
      "outputs": [
        {
          "output_type": "stream",
          "name": "stdout",
          "text": [
            "Tamaño del conjunto de testing de Arborio: 1500\n"
          ]
        }
      ]
    },
    {
      "cell_type": "code",
      "source": [
        "training_set = []\n",
        "training_set.extend(training_Arborio)\n",
        "training_set.extend(training_Basmati)\n",
        "training_set.extend(training_Ipsala)\n",
        "training_set.extend(training_Jasmine)\n",
        "training_set.extend(training_Karacadag)"
      ],
      "metadata": {
        "id": "94ygWm6R2E2J"
      },
      "execution_count": 12,
      "outputs": []
    },
    {
      "cell_type": "code",
      "source": [
        "len(training_set)"
      ],
      "metadata": {
        "colab": {
          "base_uri": "https://localhost:8080/"
        },
        "id": "4fBuXVh21k3G",
        "outputId": "db005907-1d81-44f1-f51f-0fd5f2522b06"
      },
      "execution_count": null,
      "outputs": [
        {
          "output_type": "execute_result",
          "data": {
            "text/plain": [
              "22500"
            ]
          },
          "metadata": {},
          "execution_count": 16
        }
      ]
    },
    {
      "cell_type": "code",
      "source": [
        "# Unir conjunto de entrenamiento y labels\n",
        "label_set = []\n",
        "label_set.extend(label_Arborio)\n",
        "label_set.extend(label_Basmati)\n",
        "label_set.extend(label_Ipsala)\n",
        "label_set.extend(label_Jasmine)\n",
        "label_set.extend(label_Karacadaj)"
      ],
      "metadata": {
        "id": "-o22sWJe1AZB"
      },
      "execution_count": 13,
      "outputs": []
    },
    {
      "cell_type": "code",
      "source": [
        "len(label_set)"
      ],
      "metadata": {
        "colab": {
          "base_uri": "https://localhost:8080/"
        },
        "id": "qnNRl0yS2W7s",
        "outputId": "a5191d11-6fcc-4022-ff4a-73e00e2d4ff4"
      },
      "execution_count": null,
      "outputs": [
        {
          "output_type": "execute_result",
          "data": {
            "text/plain": [
              "22500"
            ]
          },
          "metadata": {},
          "execution_count": 15
        }
      ]
    },
    {
      "cell_type": "code",
      "source": [
        "# Separar en evaluacion y entrenamiento\n",
        "X_train, X_test, y_train, y_test = train_test_split(training_set,label_set, test_size=0.2, random_state=42)"
      ],
      "metadata": {
        "id": "9-wQSdzY_QXY"
      },
      "execution_count": 14,
      "outputs": []
    },
    {
      "cell_type": "code",
      "source": [
        "len(X_train)"
      ],
      "metadata": {
        "colab": {
          "base_uri": "https://localhost:8080/"
        },
        "id": "1Y_-CSE8_iLb",
        "outputId": "c4e45601-3c59-43d8-9a2d-263fb1481bd7"
      },
      "execution_count": null,
      "outputs": [
        {
          "output_type": "execute_result",
          "data": {
            "text/plain": [
              "18000"
            ]
          },
          "metadata": {},
          "execution_count": 18
        }
      ]
    },
    {
      "cell_type": "code",
      "source": [
        "len(X_test)"
      ],
      "metadata": {
        "colab": {
          "base_uri": "https://localhost:8080/"
        },
        "id": "r--27Iw1ceqe",
        "outputId": "0fe1b857-457c-4eae-8f35-2c951eda49a2"
      },
      "execution_count": null,
      "outputs": [
        {
          "output_type": "execute_result",
          "data": {
            "text/plain": [
              "4500"
            ]
          },
          "metadata": {},
          "execution_count": 23
        }
      ]
    },
    {
      "cell_type": "code",
      "source": [
        "# generador de imagenes por lotes, asi como procesamiento y limpieza de estas mismas.\n",
        "def batch_generator(lista_imagenes, lista_etiquetas, batch_size, shuffle=True):\n",
        "    num_samples = len(lista_imagenes)\n",
        "    indices = np.arange(num_samples)\n",
        "\n",
        "    while True:\n",
        "          if shuffle:\n",
        "            np.random.shuffle(indices)\n",
        "\n",
        "          # Crea lotes vacíos\n",
        "          batch_imagenes = list()\n",
        "          batch_etiquetas = list()\n",
        "\n",
        "          # Llena el lote con datos del generador\n",
        "          for i in range(0, num_samples, batch_size):\n",
        "            batch_indices = indices[i:i + batch_size]\n",
        "\n",
        "            # Inicializa las listas como listas vacías\n",
        "            batch_imagenes = list()\n",
        "            batch_etiquetas = list()\n",
        "\n",
        "            for idx in batch_indices:\n",
        "                # Obtén una imagen y su etiqueta del generador\n",
        "                imagen = lista_imagenes[idx]\n",
        "                etiqueta = lista_etiquetas[idx]\n",
        "\n",
        "                # Convierte la imagen a matriz numpy\n",
        "                imagen = img_to_array(imagen)\n",
        "\n",
        "                # Añade la imagen y su etiqueta al lote\n",
        "                batch_imagenes.append(imagen)\n",
        "                batch_etiquetas.append(etiqueta)\n",
        "\n",
        "            # Convierte las listas a matrices numpy\n",
        "            batch_imagenes = np.array(batch_imagenes)\n",
        "            batch_etiquetas = np.array(batch_etiquetas)\n",
        "\n",
        "            # Normaliza las imágenes\n",
        "            batch_imagenes /= 255.0\n",
        "\n",
        "            # Convierte las etiquetas a categóricas\n",
        "            batch_etiquetas_categoricas = to_categorical(batch_etiquetas, num_classes=6)\n",
        "\n",
        "            yield batch_imagenes, batch_etiquetas_categoricas"
      ],
      "metadata": {
        "id": "i_SXVGcgs8Nx"
      },
      "execution_count": 15,
      "outputs": []
    },
    {
      "cell_type": "code",
      "source": [
        "generador_train = batch_generator(X_train, y_train, batch_size=32,shuffle=True)\n",
        "generador_test = batch_generator(X_test, y_test, batch_size=32,shuffle=True)"
      ],
      "metadata": {
        "id": "lVwK1YPhvcq6"
      },
      "execution_count": null,
      "outputs": []
    },
    {
      "cell_type": "code",
      "source": [
        "# Obtener un lote del generador\n",
        "batch_imagenes, batch_etiquetas_categoricas = next(generador_train)"
      ],
      "metadata": {
        "id": "YGv5UgfhvctW"
      },
      "execution_count": null,
      "outputs": []
    },
    {
      "cell_type": "code",
      "source": [
        "# Imprimir las formas para generador_train\n",
        "print(f'Forma de las imágenes: {batch_imagenes.shape}')\n",
        "print(f'Forma de las etiquetas: {batch_etiquetas_categoricas.shape}')"
      ],
      "metadata": {
        "colab": {
          "base_uri": "https://localhost:8080/"
        },
        "id": "L3cVpIwI6YtB",
        "outputId": "1ef813e2-4e50-48be-f7b9-00631bef7b33"
      },
      "execution_count": null,
      "outputs": [
        {
          "output_type": "stream",
          "name": "stdout",
          "text": [
            "Forma de las imágenes: (32, 250, 250, 3)\n",
            "Forma de las etiquetas: (32, 6)\n"
          ]
        }
      ]
    },
    {
      "cell_type": "code",
      "source": [
        "# Imprimir las formas para generador_test\n",
        "batch_imagenes2, batch_etiquetas_categoricas2 = next(generador_test)\n",
        "print(f'Forma de las imágenes: {batch_imagenes2.shape}')\n",
        "print(f'Forma de las etiquetas: {batch_etiquetas_categoricas2.shape}')"
      ],
      "metadata": {
        "colab": {
          "base_uri": "https://localhost:8080/"
        },
        "id": "OhEfzPDPHXkM",
        "outputId": "4bfecc01-7f20-4c04-def9-91fb90d573f9"
      },
      "execution_count": null,
      "outputs": [
        {
          "output_type": "stream",
          "name": "stdout",
          "text": [
            "Forma de las imágenes: (32, 250, 250, 3)\n",
            "Forma de las etiquetas: (32, 6)\n"
          ]
        }
      ]
    },
    {
      "cell_type": "code",
      "source": [
        "# Arquitectura de la red convolucional\n",
        "input_shape = (250, 250, 3)\n",
        "num_classes = 6\n",
        "\n",
        "model = Sequential()\n",
        "model.add(Conv2D(32, kernel_size=(3, 3),activation='relu',padding = 'Same',input_shape=input_shape))\n",
        "model.add(MaxPool2D(pool_size = (2, 2)))\n",
        "model.add(Conv2D(32,kernel_size=(3, 3), activation='relu',padding = 'Same'))\n",
        "model.add(MaxPool2D(pool_size = (2, 2)))\n",
        "model.add(Dropout(0.25))\n",
        "\n",
        "model.add(Flatten())\n",
        "model.add(Dense(128, activation='relu'))\n",
        "model.add(Dense(128, activation='relu'))\n",
        "model.add(Dropout(0.5))\n",
        "model.add(Dense(num_classes, activation='softmax'))\n",
        "model.summary()\n"
      ],
      "metadata": {
        "colab": {
          "base_uri": "https://localhost:8080/"
        },
        "id": "TUrS34hyALzJ",
        "outputId": "f5ad7f1e-3b5e-4613-e7e8-c3cc93c69ab7"
      },
      "execution_count": 16,
      "outputs": [
        {
          "output_type": "stream",
          "name": "stdout",
          "text": [
            "Model: \"sequential\"\n",
            "_________________________________________________________________\n",
            " Layer (type)                Output Shape              Param #   \n",
            "=================================================================\n",
            " conv2d (Conv2D)             (None, 250, 250, 32)      896       \n",
            "                                                                 \n",
            " max_pooling2d (MaxPooling2  (None, 125, 125, 32)      0         \n",
            " D)                                                              \n",
            "                                                                 \n",
            " conv2d_1 (Conv2D)           (None, 125, 125, 32)      9248      \n",
            "                                                                 \n",
            " max_pooling2d_1 (MaxPoolin  (None, 62, 62, 32)        0         \n",
            " g2D)                                                            \n",
            "                                                                 \n",
            " dropout (Dropout)           (None, 62, 62, 32)        0         \n",
            "                                                                 \n",
            " flatten (Flatten)           (None, 123008)            0         \n",
            "                                                                 \n",
            " dense (Dense)               (None, 128)               15745152  \n",
            "                                                                 \n",
            " dense_1 (Dense)             (None, 128)               16512     \n",
            "                                                                 \n",
            " dropout_1 (Dropout)         (None, 128)               0         \n",
            "                                                                 \n",
            " dense_2 (Dense)             (None, 6)                 774       \n",
            "                                                                 \n",
            "=================================================================\n",
            "Total params: 15772582 (60.17 MB)\n",
            "Trainable params: 15772582 (60.17 MB)\n",
            "Non-trainable params: 0 (0.00 Byte)\n",
            "_________________________________________________________________\n"
          ]
        }
      ]
    },
    {
      "cell_type": "code",
      "source": [
        "optimizer = Adam(learning_rate=0.001)\n",
        "model.compile(optimizer = optimizer , loss = \"categorical_crossentropy\", metrics=[\"accuracy\"])"
      ],
      "metadata": {
        "id": "Nvq6YobRCMNA"
      },
      "execution_count": 17,
      "outputs": []
    },
    {
      "cell_type": "code",
      "source": [
        "# Definir el número de pasos por época y el número de épocas\n",
        "num_samples = len(X_train)\n",
        "batch_size = 20\n",
        "num_epochs = 5\n",
        "steps_per_epoch = num_samples // batch_size\n",
        "\n",
        "# Entrenar el modelo\n",
        "history = model.fit_generator(\n",
        "    batch_generator(X_train, y_train, batch_size=batch_size, shuffle=True),\n",
        "    steps_per_epoch=steps_per_epoch,\n",
        "    epochs=num_epochs,\n",
        "    validation_data=batch_generator(X_test, y_test, batch_size=batch_size, shuffle=True),\n",
        "    validation_steps=len(X_test) // batch_size\n",
        ")"
      ],
      "metadata": {
        "colab": {
          "base_uri": "https://localhost:8080/"
        },
        "id": "WHh5ELbGCTmF",
        "outputId": "3bf0fe1f-3293-4b8f-fa5c-0110f33355c3"
      },
      "execution_count": 18,
      "outputs": [
        {
          "output_type": "stream",
          "name": "stdout",
          "text": [
            "Epoch 1/5\n"
          ]
        },
        {
          "output_type": "stream",
          "name": "stderr",
          "text": [
            "<ipython-input-18-54369968f9aa>:8: UserWarning: `Model.fit_generator` is deprecated and will be removed in a future version. Please use `Model.fit`, which supports generators.\n",
            "  history = model.fit_generator(\n"
          ]
        },
        {
          "output_type": "stream",
          "name": "stdout",
          "text": [
            "900/900 [==============================] - 69s 63ms/step - loss: 0.2248 - accuracy: 0.9233 - val_loss: 0.1173 - val_accuracy: 0.9633\n",
            "Epoch 2/5\n",
            "900/900 [==============================] - 54s 60ms/step - loss: 0.1057 - accuracy: 0.9668 - val_loss: 0.1050 - val_accuracy: 0.9680\n",
            "Epoch 3/5\n",
            "900/900 [==============================] - 54s 60ms/step - loss: 0.0766 - accuracy: 0.9743 - val_loss: 0.1376 - val_accuracy: 0.9616\n",
            "Epoch 4/5\n",
            "900/900 [==============================] - 54s 60ms/step - loss: 0.0658 - accuracy: 0.9779 - val_loss: 0.1030 - val_accuracy: 0.9678\n",
            "Epoch 5/5\n",
            "900/900 [==============================] - 53s 59ms/step - loss: 0.0452 - accuracy: 0.9838 - val_loss: 0.1572 - val_accuracy: 0.9611\n"
          ]
        }
      ]
    },
    {
      "cell_type": "code",
      "source": [
        "# Prediccion con conjunto de prueba (datos no visto en el entrenamiento)\n",
        "new_instance=testing_Karacadag[2145]\n",
        "new_instance"
      ],
      "metadata": {
        "colab": {
          "base_uri": "https://localhost:8080/",
          "height": 267
        },
        "id": "5hCqBW23cXXN",
        "outputId": "136bdff2-59d2-4fc4-f955-27fe88ff97a0"
      },
      "execution_count": 52,
      "outputs": [
        {
          "output_type": "execute_result",
          "data": {
            "text/plain": [
              "<PIL.JpegImagePlugin.JpegImageFile image mode=RGB size=250x250>"
            ],
            "image/png": "[encoded data removed]"
          },
          "metadata": {},
          "execution_count": 52
        }
      ]
    },
    {
      "cell_type": "code",
      "source": [
        "# procesamiento de imagenes para carga en modelo y prediccion\n",
        "def preprocess_image(new_instance):\n",
        "  new_instance = img_to_array(new_instance)\n",
        "  new_instance /= 255.0\n",
        "  new_instance = np.expand_dims(new_instance, axis=0)\n",
        "\n",
        "  # Realiza la predicción (probabilidades)\n",
        "  predictions = lambda x: model.predict(x)\n",
        "  # Obtén la etiqueta predicha(argumento mas alto)\n",
        "  predicted_label = lambda x: np.argmax(x, axis = 1)\n",
        "\n",
        "  # Arborio --> clase 1\n",
        "  # Basmati --> clase 2\n",
        "  # Ipsala --> clase 3\n",
        "  # Jasmine --> clase 4\n",
        "  # Karacadaj --> clase 5\n",
        "  result = predicted_label(predictions(new_instance))\n",
        "  print(\"La imagen pertenece a la clase:\", result)"
      ],
      "metadata": {
        "id": "yQ4tpi0JASbU"
      },
      "execution_count": 40,
      "outputs": []
    },
    {
      "cell_type": "code",
      "source": [
        "preprocess_image(new_instance)"
      ],
      "metadata": {
        "colab": {
          "base_uri": "https://localhost:8080/"
        },
        "id": "Ef37VBhQGlvR",
        "outputId": "66cc1a76-3c75-4138-94d7-64fb5cdc12f0"
      },
      "execution_count": 53,
      "outputs": [
        {
          "output_type": "stream",
          "name": "stdout",
          "text": [
            "1/1 [==============================] - 0s 18ms/step\n",
            "La imagen pertenece a la clase: [5]\n"
          ]
        }
      ]
    },
    {
      "cell_type": "markdown",
      "source": [
        "\n",
        "**CONCLUSIONES**\n",
        "\n",
        "Como podemos ver la prediccon se ha realizado de forma correcta y exacta.\n",
        "\n",
        "El modelo presenta una exactitud del 96% en datos no vistos."
      ],
      "metadata": {
        "id": "MsylvR6nPCsQ"
      }
    }
  ]
}